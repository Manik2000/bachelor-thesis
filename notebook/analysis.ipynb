{
 "cells": [
  {
   "cell_type": "markdown",
   "id": "03f7eba5-e16e-456d-98e3-1022068e5b36",
   "metadata": {},
   "source": [
    "# Results"
   ]
  },
  {
   "cell_type": "code",
   "execution_count": 1,
   "id": "665c6ba1-9003-4737-8d2d-4d077bc9584c",
   "metadata": {},
   "outputs": [],
   "source": [
    "import os\n",
    "import json\n",
    "import warnings\n",
    "import numpy as np\n",
    "import matplotlib.pyplot as plt\n",
    "import openensembles as oe\n",
    "import pandas as pd\n",
    "from copy import deepcopy\n",
    "from time import perf_counter\n",
    "from sklearn.cluster import KMeans\n",
    "from sklearn.datasets import load_iris\n",
    "from sklearn.metrics import adjusted_rand_score, silhouette_score, confusion_matrix\n",
    "from sklearn.preprocessing import LabelEncoder\n",
    "warnings.filterwarnings(\"ignore\")\n",
    "\n",
    "\n",
    "path = r\"C:\\Users\\Manik\\repos\\bachelor_thesis\"\n",
    "if os.getcwd() != path:\n",
    "    os.chdir(path)"
   ]
  },
  {
   "cell_type": "code",
   "execution_count": 2,
   "id": "63e03a30-0357-4a84-8b9a-ac0addbfe37a",
   "metadata": {},
   "outputs": [],
   "source": [
    "from algorithms import BaggedEnsemble, SpectralEnsemble, HierarchyEnsemble, KModesEnsemble, BaggedMajority\n",
    "from evaluation import connectivity, cluster_stability, clustering_agreement"
   ]
  },
  {
   "cell_type": "code",
   "execution_count": 3,
   "id": "c5089a21",
   "metadata": {},
   "outputs": [],
   "source": [
    "algorithms = [KMeans, SpectralEnsemble, HierarchyEnsemble, KModesEnsemble, BaggedEnsemble, BaggedMajority]\n",
    "names = [\"KMeans\", \"SpectralEnsemble\", \"HierarchicalEnsemble\", \"KModesEnsemble\", \"BaggedEnsemble\", \"BaggedMajority\"]"
   ]
  },
  {
   "cell_type": "code",
   "execution_count": 4,
   "id": "8b1233e0-2f3b-41f1-96db-dbb5b02ab4dd",
   "metadata": {},
   "outputs": [],
   "source": [
    "def evaluate_clustering(algo, data_x, iterations, true_labels, seed=42, **params):\n",
    "    np.random.seed(seed)\n",
    "    algorithm = algo(**params)\n",
    "    clusters = []\n",
    "    agreement_indexes = []\n",
    "    rand_indexes = []\n",
    "    silhouetes_indexes = []\n",
    "    connectivity_indexes = []\n",
    "    times = []\n",
    "    for i in range(iterations):\n",
    "        algorithm_copy = algo(**params)\n",
    "        start = perf_counter()\n",
    "        algorithm_copy.fit(data_x)\n",
    "        end = perf_counter()\n",
    "        times.append(end - start)\n",
    "        labels = algorithm_copy.labels_\n",
    "        clusters.append([int(label) for label in labels])\n",
    "        agreement_indexes.append(clustering_agreement(true_labels, labels))\n",
    "        rand_indexes.append(adjusted_rand_score(true_labels, labels))\n",
    "        silhouetes_indexes.append(silhouette_score(data_x, labels))\n",
    "        connectivity_indexes.append(connectivity(data_x, labels))\n",
    "    stabilities = cluster_stability(data_x, algo, **params)\n",
    "    return {\n",
    "        \"labels\": clusters,\n",
    "        \"agreement\": agreement_indexes,\n",
    "        \"rand\": rand_indexes,\n",
    "        \"silhouette\": silhouetes_indexes,\n",
    "        \"connectivity\": connectivity_indexes,\n",
    "        \"stability\": stabilities,\n",
    "        \"time\": times\n",
    "           }"
   ]
  },
  {
   "cell_type": "code",
   "execution_count": 5,
   "id": "92904644-b6ed-4e11-b310-f5d4c6de9290",
   "metadata": {},
   "outputs": [],
   "source": [
    "def evaluate(dataset, algorithms, params, folder, iterations=20):\n",
    "    dataset_x, dataset_y, dataset_name = dataset\n",
    "    for (index, (algo, parameters)) in enumerate(zip(algorithms, params)):\n",
    "        result = evaluate_clustering(algo, \n",
    "                            dataset_x,\n",
    "                            iterations,\n",
    "                            dataset_y,\n",
    "                            **parameters)\n",
    "        with open(f\"{folder}/{dataset_name}_{names[index]}.json\", \"w\") as in_file:\n",
    "            json.dump(result, in_file)   "
   ]
  },
  {
   "cell_type": "markdown",
   "id": "74551dbb-7ea8-4017-9ff9-88a44ac0b1f3",
   "metadata": {},
   "source": [
    "# iris"
   ]
  },
  {
   "cell_type": "code",
   "execution_count": 6,
   "id": "a7584b1c-47c8-4dd2-bfe2-f915ab50b763",
   "metadata": {},
   "outputs": [],
   "source": [
    "iris = load_iris()\n",
    "iris_x = iris.data\n",
    "iris_y = iris.target"
   ]
  },
  {
   "cell_type": "code",
   "execution_count": 7,
   "id": "e3a0595f-4d33-4f2f-934c-29a476850261",
   "metadata": {},
   "outputs": [],
   "source": [
    "iris_params = [\n",
    "    {\"n_clusters\": 3, \"n_init\": 1, \"init\": \"random\"},\n",
    "    {\"clusters\": 3, \"base_estimator_k\": 5},\n",
    "    {\"clusters\": 3, \"base_estimator_k\": 5},\n",
    "    {\"clusters\": 3, \"base_estimator_k\": 3},\n",
    "    {\"clusters\": 3, \"base_centers\": 10, \"num_of_partitions\": 300},\n",
    "    {\"clusters\": 3, \"num_of_partitions\": 30, \"params\": {\"n_clusters\": 3, \"n_init\": 1, \"init\": \"random\"}}\n",
    "]"
   ]
  },
  {
   "cell_type": "code",
   "execution_count": 83,
   "id": "3dc1245b-52e6-4522-94f9-9a590278d075",
   "metadata": {},
   "outputs": [],
   "source": [
    "evaluate(\n",
    "    (iris_x, iris_y, \"iris\"),\n",
    "    algorithms, \n",
    "    iris_params,\n",
    "    \"iris\"\n",
    "        )"
   ]
  },
  {
   "cell_type": "markdown",
   "id": "8f70e5f4-30bd-4acf-b859-7f80f5e99052",
   "metadata": {},
   "source": [
    "# cassini"
   ]
  },
  {
   "cell_type": "code",
   "execution_count": 10,
   "id": "caf75996-41ab-48a8-9028-1f99818670c0",
   "metadata": {},
   "outputs": [],
   "source": [
    "cassini = pd.read_csv(\"datasets/cassini.csv\", sep=\" \")\n",
    "cassini.index = np.arange(1000)\n",
    "cassini_x = np.array(cassini[[\"x\", \"y\"]])\n",
    "cassini_y = np.array(cassini.classes)"
   ]
  },
  {
   "cell_type": "code",
   "execution_count": 11,
   "id": "fa55ef90-1057-4f2c-b948-946a4d1e4eb2",
   "metadata": {},
   "outputs": [],
   "source": [
    "cassini_params = [\n",
    "    {\"n_clusters\": 3, \"n_init\": 1, \"init\": \"random\"},\n",
    "    {\"clusters\": 3, \"base_estimator_k\": 6},\n",
    "    {\"clusters\": 3, \"base_estimator_k\": 6},\n",
    "    {\"clusters\": 3, \"base_estimator_k\": 6},\n",
    "    {\"clusters\": 3, \"base_centers\": 40, \"num_of_partitions\": 100},\n",
    "    {\"clusters\": 3, \"num_of_partitions\": 30, \"params\": {\"n_init\": 1 , \"init\": \"random\", \"n_clusters\": 3}}\n",
    "]"
   ]
  },
  {
   "cell_type": "code",
   "execution_count": null,
   "id": "e0cf79de-2324-4332-abcf-dbc61f742ecb",
   "metadata": {},
   "outputs": [],
   "source": [
    "evaluate(\n",
    "    (cassini_x, cassini_y, \"cassini\"),\n",
    "    algorithms,\n",
    "    cassini_params,\n",
    "    \"cassini\"\n",
    ")"
   ]
  },
  {
   "cell_type": "markdown",
   "id": "df78e80a-86cd-47db-a146-e210aec5b803",
   "metadata": {},
   "source": [
    "# yeast"
   ]
  },
  {
   "cell_type": "code",
   "execution_count": 12,
   "id": "b791dada-e9d8-4ff8-ad32-edead713211b",
   "metadata": {},
   "outputs": [],
   "source": [
    "# yeast\n",
    "yeast = pd.read_csv(\"datasets/yeast.txt\", sep=\"  \", header=None, engine=\"python\")\n",
    "yeast_y = yeast.iloc[:, -1]\n",
    "yeast_x = yeast.drop([0, 9], axis=1)\n",
    "yeast_y = LabelEncoder().fit_transform(yeast_y)\n",
    "yeast_x = np.array(yeast_x)"
   ]
  },
  {
   "cell_type": "code",
   "execution_count": 13,
   "id": "d78323f2-221e-42ce-a71d-786ed5fb408a",
   "metadata": {},
   "outputs": [],
   "source": [
    "yeast_params = [\n",
    "    {\"n_clusters\": 10, \"n_init\": 1, \"init\": \"random\"},\n",
    "    {\"clusters\": 10, \"base_estimator_k\": 30},\n",
    "    {\"clusters\": 10, \"base_estimator_k\": 40},\n",
    "    {\"clusters\": 10, \"base_estimator_k\": 10},\n",
    "    {\"clusters\": 10, \"base_centers\": 40, \"num_of_partitions\": 100},\n",
    "    {\"clusters\": 10, \"num_of_partitions\": 30, \"params\": {\"n_clusters\": 10, \"n_init\": 1, \"init\": \"random\"}}    \n",
    "]"
   ]
  },
  {
   "cell_type": "code",
   "execution_count": null,
   "id": "835f14c2-c8f7-4988-b613-a301f9670beb",
   "metadata": {},
   "outputs": [],
   "source": [
    "evaluate(\n",
    "    (yeast_x, yeast_y, \"yeast\"),\n",
    "    algorithms,\n",
    "    yeast_params,\n",
    "    \"yeast\"\n",
    ")"
   ]
  },
  {
   "cell_type": "markdown",
   "id": "8127aff4-5ea8-4757-8ed8-584ce6811337",
   "metadata": {},
   "source": [
    "# my_own"
   ]
  },
  {
   "cell_type": "code",
   "execution_count": 14,
   "id": "3688fac8-0278-44d6-b361-e238504f9974",
   "metadata": {},
   "outputs": [],
   "source": [
    "my_own = np.loadtxt(\"datasets/my_own.txt\")\n",
    "my_own_x = my_own[:, :2]\n",
    "my_own_y = my_own[:, 2]"
   ]
  },
  {
   "cell_type": "code",
   "execution_count": 15,
   "id": "93d9617f-f0ed-465b-bcdd-7edeae05572b",
   "metadata": {},
   "outputs": [],
   "source": [
    "my_own_params = [\n",
    "    {\"n_clusters\": 5, \"n_init\": 1, \"init\": \"random\"},\n",
    "    {\"clusters\": 5, \"base_estimator_k\": 20},\n",
    "    {\"clusters\": 5, \"base_estimator_k\": 15},\n",
    "    {\"clusters\": 5, \"base_estimator_k\": 5},\n",
    "    {\"clusters\": 5, \"base_centers\": 20},\n",
    "    {\"clusters\": 5, \"num_of_partitions\": 30, \"params\": {\"n_clusters\": 5, \"n_init\": 1, \"init\": \"random\"}}\n",
    "]"
   ]
  },
  {
   "cell_type": "code",
   "execution_count": 153,
   "id": "8cec1d25-a930-4541-960a-88801a61b8bf",
   "metadata": {},
   "outputs": [],
   "source": [
    "evaluate(\n",
    "    (my_own_x, my_own_y, \"my_own\"),\n",
    "    algorithms[:3],\n",
    "    my_own_params[:3],\n",
    "    \"my_own\"\n",
    ")"
   ]
  },
  {
   "cell_type": "markdown",
   "id": "3dafc301-f612-4b5a-aaad-6b381ad2f517",
   "metadata": {},
   "source": [
    "# digits"
   ]
  },
  {
   "cell_type": "code",
   "execution_count": 16,
   "id": "bb687f4c-06f1-4d28-ac6f-9ffbcad64832",
   "metadata": {},
   "outputs": [],
   "source": [
    "digits = np.loadtxt(\"datasets/digits.txt\")\n",
    "digits_x = digits[:, :-1]\n",
    "digits_y = digits[:, -1]"
   ]
  },
  {
   "cell_type": "code",
   "execution_count": 17,
   "id": "3be211dd-b2ff-4aae-8c61-58f1be26aaf8",
   "metadata": {},
   "outputs": [],
   "source": [
    "digits_params = [\n",
    "    {\"n_clusters\": 10, \"init\": \"random\", \"n_init\": 1},\n",
    "    {\"clusters\": 10, \"base_estimator_k\": 30},\n",
    "    {\"clusters\": 10, \"base_estimator_k\": 30},\n",
    "    {\"clusters\": 10, \"base_estimator_k\": 20},\n",
    "    {\"clusters\": 10, \"base_centers\": 50},\n",
    "    {\"clusters\": 10, \"num_of_partitions\": 30, \"params\":{\"n_clusters\": 10, \"n_init\": 1, \"init\": \"random\"}}\n",
    "]"
   ]
  },
  {
   "cell_type": "code",
   "execution_count": 274,
   "id": "b4960b46-9a98-4927-bae2-98e2d341e5d2",
   "metadata": {},
   "outputs": [],
   "source": [
    "evaluate(\n",
    "    (digits_x, digits_y, \"digits\"),\n",
    "    algorithms,\n",
    "    digits_params,\n",
    "    \"digits\"\n",
    ")"
   ]
  }
 ],
 "metadata": {
  "kernelspec": {
   "display_name": "ensembles",
   "language": "python",
   "name": "python3"
  },
  "language_info": {
   "codemirror_mode": {
    "name": "ipython",
    "version": 3
   },
   "file_extension": ".py",
   "mimetype": "text/x-python",
   "name": "python",
   "nbconvert_exporter": "python",
   "pygments_lexer": "ipython3",
   "version": "3.7.15"
  },
  "vscode": {
   "interpreter": {
    "hash": "73b7d1a5c0ff7345001eea6d6490c413ce29469717f5d2829bb88506e05ec176"
   }
  }
 },
 "nbformat": 4,
 "nbformat_minor": 5
}
